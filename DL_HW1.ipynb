{
 "cells": [
  {
   "cell_type": "code",
   "execution_count": 1,
   "metadata": {
    "colab": {
     "base_uri": "https://localhost:8080/"
    },
    "id": "Q-ft1nnm41NQ",
    "outputId": "5bde2479-3a22-43ea-fdf3-b8f922ea8005"
   },
   "outputs": [
    {
     "name": "stdout",
     "output_type": "stream",
     "text": [
      "Requirement already satisfied: mlxtend in /usr/local/lib/python3.7/dist-packages (0.14.0)\n",
      "Requirement already satisfied: matplotlib>=1.5.1 in /usr/local/lib/python3.7/dist-packages (from mlxtend) (3.2.2)\n",
      "Requirement already satisfied: pandas>=0.17.1 in /usr/local/lib/python3.7/dist-packages (from mlxtend) (1.1.5)\n",
      "Requirement already satisfied: scipy>=0.17 in /usr/local/lib/python3.7/dist-packages (from mlxtend) (1.4.1)\n",
      "Requirement already satisfied: scikit-learn>=0.18 in /usr/local/lib/python3.7/dist-packages (from mlxtend) (0.22.2.post1)\n",
      "Requirement already satisfied: numpy>=1.10.4 in /usr/local/lib/python3.7/dist-packages (from mlxtend) (1.19.5)\n",
      "Requirement already satisfied: setuptools in /usr/local/lib/python3.7/dist-packages (from mlxtend) (54.1.2)\n",
      "Requirement already satisfied: pyparsing!=2.0.4,!=2.1.2,!=2.1.6,>=2.0.1 in /usr/local/lib/python3.7/dist-packages (from matplotlib>=1.5.1->mlxtend) (2.4.7)\n",
      "Requirement already satisfied: python-dateutil>=2.1 in /usr/local/lib/python3.7/dist-packages (from matplotlib>=1.5.1->mlxtend) (2.8.1)\n",
      "Requirement already satisfied: cycler>=0.10 in /usr/local/lib/python3.7/dist-packages (from matplotlib>=1.5.1->mlxtend) (0.10.0)\n",
      "Requirement already satisfied: kiwisolver>=1.0.1 in /usr/local/lib/python3.7/dist-packages (from matplotlib>=1.5.1->mlxtend) (1.3.1)\n",
      "Requirement already satisfied: pytz>=2017.2 in /usr/local/lib/python3.7/dist-packages (from pandas>=0.17.1->mlxtend) (2018.9)\n",
      "Requirement already satisfied: joblib>=0.11 in /usr/local/lib/python3.7/dist-packages (from scikit-learn>=0.18->mlxtend) (1.0.1)\n",
      "Requirement already satisfied: six>=1.5 in /usr/local/lib/python3.7/dist-packages (from python-dateutil>=2.1->matplotlib>=1.5.1->mlxtend) (1.15.0)\n"
     ]
    }
   ],
   "source": [
    "!pip install mlxtend"
   ]
  },
  {
   "cell_type": "code",
   "execution_count": null,
   "metadata": {
    "id": "9DutbEL941NR"
   },
   "outputs": [],
   "source": [
    "import zipfile\n",
    "with zipfile.ZipFile('archive.zip', 'r') as zip_ref:\n",
    "    zip_ref.extractall('archive')\n",
    "    "
   ]
  },
  {
   "cell_type": "code",
   "execution_count": 3,
   "metadata": {
    "colab": {
     "base_uri": "https://localhost:8080/"
    },
    "id": "R4m0K0Vx5Ozv",
    "outputId": "66d7c78d-0987-4383-80c2-1925e852fe4c"
   },
   "outputs": [
    {
     "name": "stdout",
     "output_type": "stream",
     "text": [
      "Mounted at /content/drive\n"
     ]
    }
   ],
   "source": [
    "from google.colab import drive\n",
    "drive.mount('/content/drive')"
   ]
  },
  {
   "cell_type": "code",
   "execution_count": 36,
   "metadata": {
    "id": "9TU-hbSP41NR"
   },
   "outputs": [],
   "source": [
    "\n",
    "import pandas as pd\n",
    "dataset = pd.read_csv('archive/archive/fashion-mnist_train.csv')"
   ]
  },
  {
   "cell_type": "code",
   "execution_count": 37,
   "metadata": {
    "id": "iu-9dN_K41NR"
   },
   "outputs": [],
   "source": [
    "y = dataset['label']"
   ]
  },
  {
   "cell_type": "code",
   "execution_count": 38,
   "metadata": {
    "id": "8bzc3exS41NR"
   },
   "outputs": [],
   "source": [
    "import numpy as np\n",
    "import pandas as pd\n",
    "import matplotlib.pyplot as plt\n",
    "\n",
    "import torch\n",
    "import torch.nn as nn\n",
    "from torch.autograd import Variable\n",
    "\n",
    "import torchvision\n",
    "import torchvision.transforms as transforms\n",
    "from torch.utils.data import Dataset, DataLoader\n",
    "\n",
    "class Dataset(Dataset):\n",
    "    \n",
    "    def __init__(self, data, transform = None):\n",
    "        self.fashion_MNIST = data\n",
    "        self.transform = transform\n",
    "        \n",
    "        \n",
    "        label = []\n",
    "        image = []\n",
    "        \n",
    "        for i in range(len(self.fashion_MNIST)):\n",
    "            label.append(train.iloc[i, 0])\n",
    "            image.append(train.iloc[i, 1:])\n",
    "        self.labels = np.asarray(label)\n",
    "        self.images = np.asarray(image).reshape(-1, 28, 28, 1).astype('float32')\n",
    "        \n",
    "\n",
    "    def __getitem__(self, index):\n",
    "        label = self.labels[index]\n",
    "        image = self.images[index]\n",
    "        \n",
    "        if self.transform is not None:\n",
    "            image = self.transform(image)\n",
    "\n",
    "        return image, label\n",
    "    \n",
    "    def __len__(self):\n",
    "        return len(self.images)"
   ]
  },
  {
   "cell_type": "code",
   "execution_count": 39,
   "metadata": {
    "id": "44sHJhbP41NS"
   },
   "outputs": [],
   "source": [
    "device = torch.device(\"cuda:0\" if torch.cuda.is_available() else \"cpu\")"
   ]
  },
  {
   "cell_type": "code",
   "execution_count": 40,
   "metadata": {
    "id": "tNqvQsPK41NS"
   },
   "outputs": [],
   "source": [
    "from sklearn.model_selection import train_test_split\n",
    "train, test = train_test_split(dataset, test_size=0.2, random_state=42, shuffle=True)\n"
   ]
  },
  {
   "cell_type": "code",
   "execution_count": 41,
   "metadata": {
    "id": "krvNs5N541NS"
   },
   "outputs": [],
   "source": [
    "train = train.reset_index(drop=True)\n",
    "test = test.reset_index(drop=True)"
   ]
  },
  {
   "cell_type": "code",
   "execution_count": 42,
   "metadata": {
    "id": "IOwaxunB41NS"
   },
   "outputs": [],
   "source": [
    "train_dataset = Dataset(train)\n",
    "train_loader = DataLoader(train_dataset, batch_size = 25)"
   ]
  },
  {
   "cell_type": "code",
   "execution_count": 43,
   "metadata": {
    "id": "ea4LO6CM41NT"
   },
   "outputs": [],
   "source": [
    "test_dataset = Dataset(test)\n",
    "test_loader = DataLoader(test_dataset, batch_size = 25)"
   ]
  },
  {
   "cell_type": "code",
   "execution_count": 44,
   "metadata": {
    "id": "xYBZdRKd41NT"
   },
   "outputs": [],
   "source": [
    "import torch\n",
    "from torch import nn\n",
    "\n",
    "\n",
    "class CNN(nn.Module):\n",
    "    def __init__(self):\n",
    "            super(CNN, self).__init__()\n",
    "            self.layer1 = nn.Sequential(\n",
    "            nn.Conv2d(in_channels=1, out_channels=32, kernel_size=3),\n",
    "            nn.BatchNorm2d(32),\n",
    "            nn.ReLU(),\n",
    "            nn.MaxPool2d(kernel_size=2, stride=2),\n",
    "        )\n",
    "            self.layer2 = nn.Sequential(\n",
    "            nn.Conv2d(in_channels=32, out_channels=64, kernel_size=3, padding=1),\n",
    "            nn.BatchNorm2d(64),\n",
    "            nn.ReLU(),\n",
    "            nn.MaxPool2d(kernel_size=3, stride=2)\n",
    "        )\n",
    "            self.fc1 = nn.Linear(in_features=6*6*64, out_features=512)\n",
    "            self.fc2 = nn.Linear(in_features=512, out_features=128)\n",
    "            self.fc3 = nn.Linear(in_features=128, out_features=10)\n",
    "            \n",
    "\n",
    "    def forward(self, x):\n",
    "        out = self.layer1(x)\n",
    "        out = self.layer2(out)\n",
    "        out = out.view(out.size(0), -1)\n",
    "        out = self.fc1(out)\n",
    "        out = self.fc2(out)\n",
    "        out = self.fc3(out)\n",
    "        return out"
   ]
  },
  {
   "cell_type": "code",
   "execution_count": 72,
   "metadata": {
    "id": "AovlDefo6UUL"
   },
   "outputs": [],
   "source": [
    "class SimpleMLP(nn.Module):\n",
    "    def __init__(self, input_shape, list_hidden_layers, output_shape):\n",
    "        super(SimpleMLP, self).__init__()\n",
    "        l = []\n",
    "        l.append(nn.Linear(input_shape, list_hidden_layers[0]))\n",
    "        nn.BatchNorm2d(list_hidden_layers[0]),\n",
    "        l.append(nn.ReLU())\n",
    "        for i in range(1, len(list_hidden_layers)):\n",
    "            l.append(nn.Linear(list_hidden_layers[i-1], list_hidden_layers[i]))\n",
    "            l.append(nn.ReLU())\n",
    "        l.append(nn.Linear(list_hidden_layers[-1], output_shape))\n",
    "        l.append(nn.Dropout(0.2))\n",
    "        self.module_list = nn.ModuleList(l)\n",
    "    def forward(self, x):\n",
    "        for f in self.module_list:\n",
    "            x = f(x)\n",
    "        return x\n"
   ]
  },
  {
   "cell_type": "code",
   "execution_count": 145,
   "metadata": {
    "id": "5NuwaU_X_dn9"
   },
   "outputs": [],
   "source": [
    "model = SimpleMLP(784, [256, 128], 10)\n",
    "model.to(device)\n",
    "loss = nn.CrossEntropyLoss()\n",
    "lr = 0.001\n",
    "optim = torch.optim.Adam(model.parameters(), lr = lr)"
   ]
  },
  {
   "cell_type": "code",
   "execution_count": 146,
   "metadata": {
    "id": "8qOmxNiBH4q0"
   },
   "outputs": [],
   "source": [
    "import os\n",
    "from datetime import datetime\n",
    "from time import gmtime, strftime"
   ]
  },
  {
   "cell_type": "code",
   "execution_count": 147,
   "metadata": {
    "id": "u3k_0J5oI86D"
   },
   "outputs": [],
   "source": [
    "from os import path"
   ]
  },
  {
   "cell_type": "code",
   "execution_count": 155,
   "metadata": {
    "id": "8jh5uVim_Zco"
   },
   "outputs": [],
   "source": [
    "from torch.utils.tensorboard import SummaryWriter\n",
    "import matplotlib.pyplot as plt\n",
    "\n",
    "class Trainer:\n",
    "    def __init__(self, model, optimizer=None, criterion=None):\n",
    "        self.model = model\n",
    "        self.criterion = criterion\n",
    "        self.optimizer = optimizer\n",
    "        addr = 'experiment_logs'\n",
    "        if path.exists('experiment_logs') == False:\n",
    "            os.mkdir('experiment_logs')\n",
    "        dt = strftime(\"%Y-%m-%d_%H_%M_%S\", gmtime())\n",
    "        \n",
    "        s = addr + dt\n",
    "        os.mkdir(s)\n",
    "        self.directory = s\n",
    "\n",
    "    def fit(self, train_dataloader, test_dataloader, n_epochs):\n",
    "        self.model.train()\n",
    "        total = 0\n",
    "        train_losses = []\n",
    "        train_accs = []\n",
    "        epochs = 0\n",
    "        test_losses = []\n",
    "        test_accs = []\n",
    "        \n",
    "        for epoch in range(n_epochs):\n",
    "            print(\"epoch: \", epoch)\n",
    "            epoch_loss = 0\n",
    "            correct = 0\n",
    "            total = 0\n",
    "            for i, (x_batch, y_batch) in enumerate(train_dataloader):\n",
    "                data = x_batch.to(device)\n",
    "                target = y_batch.to(device)\n",
    "                data = data.view(data.shape[0], -1)\n",
    "                output = model(data)\n",
    "                self.optimizer.zero_grad()\n",
    "                loss = self.criterion(output, target)\n",
    "                loss.backward()\n",
    "                self.optimizer.step()\n",
    "                epoch_loss += loss.item()\n",
    "                predictions = torch.max(output, 1)[1].to(device)\n",
    "                correct += float((predictions == target).sum())\n",
    "                total += float(len(target))\n",
    "            train_losses.append(epoch_loss)\n",
    "            res = 0.0\n",
    "            res = correct/total\n",
    "            train_accs.append(correct/total)\n",
    "            \n",
    "            \n",
    "\n",
    "            self.model.eval()\n",
    "\n",
    "            epoch_loss_test = 0\n",
    "            correct_test = 0\n",
    "            total_test = 0\n",
    "            \n",
    "            for i, (x_batch, y_batch) in enumerate(test_dataloader):\n",
    "                data = x_batch.to(device)\n",
    "                target = y_batch.to(device)\n",
    "                data = data.view(data.shape[0], -1)\n",
    "                output = model(data)\n",
    "                loss = self.criterion(output, target)\n",
    "                epoch_loss_test += loss.item()\n",
    "                predictions = torch.max(output, 1)[1].to(device)\n",
    "                correct_test += float((predictions == target).sum())\n",
    "                total_test += float(len(target))\n",
    "            print(correct_test)\n",
    "            print(total_test)\n",
    "            res = 0.0\n",
    "            res = correct_test/total_test\n",
    "            print(res)\n",
    "            print(epoch_loss_test)\n",
    "            test_losses.append(epoch_loss_test)\n",
    "            test_accs.append(correct_test/total_test)\n",
    "            \n",
    "        fig1, (loss_train_plot, loss_test_plot) = plt.subplots(2)\n",
    "        fig1.suptitle('Losses')\n",
    "        loss_train_plot.plot(np.arange(n_epochs), train_losses)\n",
    "        loss_test_plot.plot(np.arange(n_epochs), test_losses)\n",
    "        loss_train_plot.title.set_text('Loss train')\n",
    "        loss_test_plot.title.set_text('Loss test')\n",
    "        addr_1 = self.directory +'/'\n",
    "\n",
    "        \n",
    "        fig1.savefig(addr_1 + 'losses.png')\n",
    "\n",
    "        \n",
    "        \n",
    "        fig2, (acc_train_plot, acc_test_plot) = plt.subplots(2)\n",
    "        fig2.suptitle('Accuracy')\n",
    "        acc_train_plot.plot(np.arange(n_epochs), train_accs)\n",
    "        acc_test_plot.plot(np.arange(n_epochs), test_accs)\n",
    "        \n",
    "        acc_train_plot.title.set_text('Accuracy train')\n",
    "        acc_test_plot.title.set_text('Accuracy test')\n",
    "        \n",
    "        \n",
    "        addr_2 = self.directory +'/'\n",
    "\n",
    "        \n",
    "        fig2.savefig(addr_2 + 'accuracy.png')\n",
    "        \n",
    "        \n",
    "\n",
    "    def predict(self, test_dataloader):\n",
    "        all_outputs = torch.tensor([], dtype=torch.long).to(device)\n",
    "        self.model.eval()\n",
    "        with torch.no_grad():\n",
    "            for i, (x_batch, y_batch) in enumerate(test_dataloader):\n",
    "                data = x_batch.to(device)\n",
    "                data  = data.view(data.size(0), -1).to(device)\n",
    "                target = y_batch.to(device)\n",
    "                outputs = model(data)\n",
    "                predictions = torch.max(outputs, 1)[1].to(device)\n",
    "                all_outputs = torch.cat((all_outputs, predictions))\n",
    "        return all_outputs\n",
    "\n",
    "    def predict_proba(self, test_dataloader):\n",
    "        all_outputs = torch.tensor([], dtype=torch.float32).to(device)\n",
    "        self.model.eval()\n",
    "        with torch.no_grad():\n",
    "            for i, (x_batch, y_batch) in enumerate(test_dataloader):\n",
    "                data = x_batch.to(device)\n",
    "                data  = data.view(data.size(0), -1).to(device)\n",
    "                outs = self.model(data)\n",
    "                m = nn.Softmax(dim=1)\n",
    "                outs = m(outs)\n",
    "                all_outputs = torch.cat((all_outputs, outs), 0)\n",
    "        return all_outputs\n",
    "\n",
    "    def predict_proba_tensor(self, T):\n",
    "        self.model.eval()\n",
    "        with torch.no_grad():\n",
    "            output = self.model(T)\n",
    "            m = nn.Softmax(dim=1)\n",
    "            output = m(output)\n",
    "        return output"
   ]
  },
  {
   "cell_type": "code",
   "execution_count": 157,
   "metadata": {
    "id": "qz8t-eM09v2I"
   },
   "outputs": [],
   "source": [
    "mod = Trainer(model, optim, loss)"
   ]
  },
  {
   "cell_type": "code",
   "execution_count": 150,
   "metadata": {
    "colab": {
     "base_uri": "https://localhost:8080/"
    },
    "id": "t6bxqew1-1OD",
    "outputId": "001d85e1-0ad1-4c75-ea9f-508a8247b38d"
   },
   "outputs": [
    {
     "name": "stdout",
     "output_type": "stream",
     "text": [
      "epoch:  0\n",
      "9732.0\n",
      "12000.0\n",
      "0.811\n",
      "260.77295234799385\n",
      "epoch:  1\n",
      "10073.0\n",
      "12000.0\n",
      "0.8394166666666667\n",
      "222.08831077814102\n",
      "epoch:  2\n",
      "10246.0\n",
      "12000.0\n",
      "0.8538333333333333\n",
      "198.13512179255486\n",
      "epoch:  3\n",
      "10305.0\n",
      "12000.0\n",
      "0.85875\n",
      "190.16214800998569\n",
      "epoch:  4\n",
      "10410.0\n",
      "12000.0\n",
      "0.8675\n",
      "181.622603982687\n",
      "epoch:  5\n",
      "10260.0\n",
      "12000.0\n",
      "0.855\n",
      "203.3174870684743\n",
      "epoch:  6\n",
      "10349.0\n",
      "12000.0\n",
      "0.8624166666666667\n",
      "202.60377356223762\n",
      "epoch:  7\n",
      "10484.0\n",
      "12000.0\n",
      "0.8736666666666667\n",
      "172.848330616951\n",
      "epoch:  8\n",
      "10589.0\n",
      "12000.0\n",
      "0.8824166666666666\n",
      "162.51824862882495\n",
      "epoch:  9\n",
      "10453.0\n",
      "12000.0\n",
      "0.8710833333333333\n",
      "183.81751354038715\n"
     ]
    },
    {
     "data": {
      "image/png": "[encoded data removed]",
      "text/plain": [
       "<Figure size 432x288 with 2 Axes>"
      ]
     },
     "metadata": {
      "needs_background": "light"
     },
     "output_type": "display_data"
    },
    {
     "data": {
      "image/png": "[encoded data removed]",
      "text/plain": [
       "<Figure size 432x288 with 2 Axes>"
      ]
     },
     "metadata": {
      "needs_background": "light"
     },
     "output_type": "display_data"
    }
   ],
   "source": [
    "mod.fit(train_loader,test_loader, 10)"
   ]
  },
  {
   "cell_type": "code",
   "execution_count": 160,
   "metadata": {},
   "outputs": [
    {
     "data": {
      "text/plain": [
       "torch.Size([12000, 10])"
      ]
     },
     "execution_count": 160,
     "metadata": {},
     "output_type": "execute_result"
    }
   ],
   "source": [
    "mod.predict_proba(test_loader).shape"
   ]
  },
  {
   "cell_type": "code",
   "execution_count": null,
   "metadata": {},
   "outputs": [],
   "source": []
  }
 ],
 "metadata": {
  "accelerator": "GPU",
  "colab": {
   "collapsed_sections": [],
   "name": "DL19-fall-shaf-2.ipynb",
   "provenance": []
  },
  "kernelspec": {
   "display_name": "Python 3",
   "language": "python",
   "name": "python3"
  },
  "language_info": {
   "codemirror_mode": {
    "name": "ipython",
    "version": 3
   },
   "file_extension": ".py",
   "mimetype": "text/x-python",
   "name": "python",
   "nbconvert_exporter": "python",
   "pygments_lexer": "ipython3",
   "version": "3.7.6"
  }
 },
 "nbformat": 4,
 "nbformat_minor": 1
}
